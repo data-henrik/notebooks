{
 "cells": [
  {
   "cell_type": "code",
   "execution_count": 4,
   "metadata": {
    "collapsed": false,
    "slideshow": {
     "slide_type": "skip"
    }
   },
   "outputs": [
    {
     "data": {
      "text/plain": [
       "{u'slidenumber': 'true',\n",
       " u'start_slideshow_at': 'selected',\n",
       " u'theme': u'simple',\n",
       " u'transition': u'none'}"
      ]
     },
     "execution_count": 4,
     "metadata": {},
     "output_type": "execute_result"
    }
   ],
   "source": [
    "from notebook.services.config import ConfigManager\n",
    "cm = ConfigManager()\n",
    "cm.update('livereveal', {\n",
    "              'start_slideshow_at': 'selected',\n",
    "              'slidenumber' : 'true'\n",
    "        \n",
    "})"
   ]
  },
  {
   "cell_type": "markdown",
   "metadata": {
    "slideshow": {
     "slide_type": "slide"
    }
   },
   "source": [
    "# Introduction to IBM Bluemix\n",
    "***\n",
    "\n",
    "\n",
    "## Dr. Henrik Loeser, 2016\n",
    "Offering Manager & Developer Advocate<br>\n",
    "Focus: Data & Analytics, Data Security, Privacy & Compliance\n",
    "\n",
    "<br>\n",
    "##### Email: hloeser@de.ibm.com\n",
    "##### Twitter: @data_henrik\n",
    "##### Blog: http://blog.4loeser.net\n",
    "##### LinkedIn: http://de.linkedin.com/in/henrikloeser\n",
    "\n",
    "\n"
   ]
  },
  {
   "cell_type": "markdown",
   "metadata": {
    "slideshow": {
     "slide_type": "slide"
    }
   },
   "source": [
    "# Agenda\n",
    "***\n",
    "* Bluemix Overview\n",
    "* Bluemix Services\n",
    "* Bluemix Dedicated/Local and Administration\n",
    "* Develop and Deploy Applications\n",
    "* Closing Remarks\n",
    "\n"
   ]
  },
  {
   "cell_type": "markdown",
   "metadata": {
    "slideshow": {
     "slide_type": "slide"
    }
   },
   "source": [
    "### Bluemix Overview\n",
    "<img scale=\"80%\" src=\"bm_cloud_grey.png\">"
   ]
  },
  {
   "cell_type": "markdown",
   "metadata": {
    "slideshow": {
     "slide_type": "slide"
    }
   },
   "source": [
    "# Bluemix Overview\n",
    "***\n",
    "* \"The cloud platform to accelerate innovation on both sides of the firewall\"\n",
    "* Hybrid Cloud: Public, Dedicated, Local\n",
    "* PaaS & IaaS:\n",
    "  * Virtual Servers (OpenStack)\n",
    "  * Docker Containers\n",
    "  * Cloud Foundry\n",
    "  * OpenWhisk (Serverless)\n"
   ]
  },
  {
   "cell_type": "markdown",
   "metadata": {
    "slideshow": {
     "slide_type": "slide"
    }
   },
   "source": [
    "# Bluemix Overview\n",
    "***\n",
    "* Regions\n",
    "* Organizations & Resources\n",
    "* Users\n",
    "\n",
    "\n",
    "* See https://console.ng.bluemix.net/docs/overview/index.html for details"
   ]
  },
  {
   "cell_type": "markdown",
   "metadata": {
    "slideshow": {
     "slide_type": "slide"
    }
   },
   "source": [
    "# Using Bluemix\n",
    "***\n",
    "* Bluemix UI (website)\n",
    "* CLI: Command Line Interface\n",
    "    * Cloud Foundry CLI: cf\n",
    "    * Bluemix CLI: bx\n",
    "* API: Similar to CLI, but for programmatic access\n",
    "    * Great to write your own tools or apps\n",
    "    * Example: http://mycatalog.mybluemix.net/"
   ]
  },
  {
   "cell_type": "markdown",
   "metadata": {
    "slideshow": {
     "slide_type": "subslide"
    }
   },
   "source": [
    "# Bluemix CLI\n",
    "***\n",
    "* Command-line interfaces\n",
    "    * Cloud Foundry client: cf\n",
    "    * Bluemix client: bx or bluemix\n",
    "* Some options only available via CLI\n",
    "* Allow for plugins"
   ]
  },
  {
   "cell_type": "code",
   "execution_count": 5,
   "metadata": {
    "collapsed": false,
    "scrolled": true,
    "slideshow": {
     "slide_type": "subslide"
    }
   },
   "outputs": [
    {
     "name": "stdout",
     "output_type": "stream",
     "text": [
      "\u001b[1;38mNAME:\u001b[0m\r\n",
      "   cf - A command line tool to interact with Cloud Foundry\r\n",
      "\r\n",
      "\u001b[1;38mUSAGE:\u001b[0m\r\n",
      "   [environment variables] cf [global options] command [arguments...] [command options]\r\n",
      "\r\n",
      "\u001b[1;38mVERSION:\u001b[0m\r\n",
      "   6.16.1+924508c-2016-02-26\r\n",
      "   \r\n",
      "\u001b[1;38mGETTING STARTED:\u001b[0m\r\n",
      "   help                                   Show help\r\n",
      "   login                                  Log user in\r\n",
      "   logout                                 Log user out\r\n",
      "   passwd                                 Change user password\r\n",
      "   target                                 Set or view the targeted org or space\r\n",
      "\r\n",
      "   api                                    Set or view target api url\r\n",
      "   auth                                   Authenticate user non-interactively\r\n",
      "\r\n",
      "\u001b[1;38mAPPS:\u001b[0m\r\n",
      "   apps                                   List all apps in the target space\r\n",
      "   app                                    Display health and status for app\r\n",
      "\r\n",
      "   push                                   Push a new app or sync changes to an existing app\r\n",
      "   scale                                  Change or view the instance count, disk space limit, and memory limit for an app\r\n",
      "   delete                                 Delete an app\r\n",
      "   rename                                 Rename an app\r\n",
      "\r\n",
      "   start                                  Start an app\r\n",
      "   stop                                   Stop an app\r\n",
      "   restart                                Restart an app\r\n",
      "   restage                                Restage an app\r\n",
      "   restart-app-instance                   Terminate the running application Instance at the given index and instantiate a new instance of the application with the same index\r\n",
      "\r\n",
      "   events                                 Show recent app events\r\n",
      "   files                                  Print out a list of files in a directory or the contents of a specific file of an app running on the DEA backend\r\n",
      "   logs                                   Tail or show recent logs for an app\r\n",
      "\r\n",
      "   env                                    Show all env variables for an app\r\n",
      "   set-env                                Set an env variable for an app\r\n",
      "   unset-env                              Remove an env variable\r\n",
      "\r\n",
      "   stacks                                 List all stacks (a stack is a pre-built file system, including an operating system, that can run apps)\r\n",
      "   stack                                  Show information for a stack (a stack is a pre-built file system, including an operating system, that can run apps)\r\n",
      "\r\n",
      "   copy-source                            Make a copy of app source code from one application to another.  Unless overridden, the copy-source command will restart the application.\r\n",
      "\r\n",
      "   create-app-manifest                    Create an app manifest for an app that has been pushed successfully\r\n",
      "\r\n",
      "   get-health-check                       Get the health_check_type value of an app\r\n",
      "   set-health-check                       Set health_check_type flag to either 'port' or 'none'\r\n",
      "   enable-ssh                             Enable ssh for the application\r\n",
      "   disable-ssh                            Disable ssh for the application\r\n",
      "   ssh-enabled                            Reports whether SSH is enabled on an application container instance\r\n",
      "   ssh                                    SSH to an application container instance\r\n",
      "\r\n",
      "\u001b[1;38mSERVICES:\u001b[0m\r\n",
      "   marketplace                            List available offerings in the marketplace\r\n",
      "   services                               List all service instances in the target space\r\n",
      "   service                                Show service instance info\r\n",
      "\r\n",
      "   create-service                         Create a service instance\r\n",
      "   update-service                         Update a service instance\r\n",
      "   delete-service                         Delete a service instance\r\n",
      "   rename-service                         Rename a service instance\r\n",
      "\r\n",
      "   create-service-key                     Create key for a service instance\r\n",
      "   service-keys                           List keys for a service instance\r\n",
      "   service-key                            Show service key info\r\n",
      "   delete-service-key                     Delete a service key\r\n",
      "\r\n",
      "   bind-service                           Bind a service instance to an app\r\n",
      "   unbind-service                         Unbind a service instance from an app\r\n",
      "\r\n",
      "   bind-route-service                     Bind a service instance to a route\r\n",
      "   unbind-route-service                   Unbind a service instance from a route\r\n",
      "\r\n",
      "   create-user-provided-service           Make a user-provided service instance available to CF apps\r\n",
      "   update-user-provided-service           Update user-provided service instance\r\n",
      "\r\n",
      "\u001b[1;38mORGS:\u001b[0m\r\n",
      "   orgs                                   List all orgs\r\n",
      "   org                                    Show org info\r\n",
      "\r\n",
      "   create-org                             Create an org\r\n",
      "   delete-org                             Delete an org\r\n",
      "   rename-org                             Rename an org\r\n",
      "\r\n",
      "\u001b[1;38mSPACES:\u001b[0m\r\n",
      "   spaces                                 List all spaces in an org\r\n",
      "   space                                  Show space info\r\n",
      "\r\n",
      "   create-space                           Create a space\r\n",
      "   delete-space                           Delete a space\r\n",
      "   rename-space                           Rename a space\r\n",
      "\r\n",
      "   allow-space-ssh                        Allow SSH access for the space\r\n",
      "   disallow-space-ssh                     Disallow SSH access for the space\r\n",
      "   space-ssh-allowed                      Reports whether SSH is allowed in a space\r\n",
      "\r\n",
      "\u001b[1;38mDOMAINS:\u001b[0m\r\n",
      "   domains                                List domains in the target org\r\n",
      "   create-domain                          Create a domain in an org for later use\r\n",
      "   delete-domain                          Delete a domain\r\n",
      "   create-shared-domain                   Create a domain that can be used by all orgs (admin-only)\r\n",
      "   delete-shared-domain                   Delete a shared domain\r\n",
      "\r\n",
      "\u001b[1;38mROUTES:\u001b[0m\r\n",
      "   routes                                 List all routes in the current space or the current organization\r\n",
      "   create-route                           Create a url route in a space for later use\r\n",
      "   check-route                            Perform a simple check to determine whether a route currently exists or not\r\n",
      "   map-route                              Add a url route to an app\r\n",
      "   unmap-route                            Remove a url route from an app\r\n",
      "   delete-route                           Delete a route\r\n",
      "   delete-orphaned-routes                 Delete all orphaned routes (i.e. those that are not mapped to an app)\r\n",
      "\r\n",
      "\u001b[1;38mBUILDPACKS:\u001b[0m\r\n",
      "   buildpacks                             List all buildpacks\r\n",
      "   create-buildpack                       Create a buildpack\r\n",
      "   update-buildpack                       Update a buildpack\r\n",
      "   rename-buildpack                       Rename a buildpack\r\n",
      "   delete-buildpack                       Delete a buildpack\r\n",
      "\r\n",
      "\u001b[1;38mUSER ADMIN:\u001b[0m\r\n",
      "   create-user                            Create a new user\r\n",
      "   delete-user                            Delete a user\r\n",
      "\r\n",
      "   org-users                              Show org users by role\r\n",
      "   set-org-role                           Assign an org role to a user\r\n",
      "   unset-org-role                         Remove an org role from a user\r\n",
      "\r\n",
      "   space-users                            Show space users by role\r\n",
      "   set-space-role                         Assign a space role to a user\r\n",
      "   unset-space-role                       Remove a space role from a user\r\n",
      "\r\n",
      "\u001b[1;38mORG ADMIN:\u001b[0m\r\n",
      "   quotas                                 List available usage quotas\r\n",
      "   quota                                  Show quota info\r\n",
      "   set-quota                              Assign a quota to an org\r\n",
      "\r\n",
      "   create-quota                           Define a new resource quota\r\n",
      "   delete-quota                           Delete a quota\r\n",
      "   update-quota                           Update an existing resource quota\r\n",
      "\r\n",
      "   share-private-domain                   Share a private domain with an org\r\n",
      "   unshare-private-domain                 Unshare a private domain with an org\r\n",
      "\r\n",
      "\u001b[1;38mSPACE ADMIN:\u001b[0m\r\n",
      "   space-quotas                           List available space resource quotas\r\n",
      "   space-quota                            Show space quota info\r\n",
      "   create-space-quota                     Define a new space resource quota\r\n",
      "   update-space-quota                     Update an existing space quota\r\n",
      "   delete-space-quota                     Delete a space quota definition and unassign the space quota from all spaces\r\n",
      "   set-space-quota                        Assign a space quota definition to a space\r\n",
      "   unset-space-quota                      Unassign a quota from a space\r\n",
      "\r\n",
      "\u001b[1;38mSERVICE ADMIN:\u001b[0m\r\n",
      "   service-auth-tokens                    List service auth tokens\r\n",
      "   create-service-auth-token              Create a service auth token\r\n",
      "   update-service-auth-token              Update a service auth token\r\n",
      "   delete-service-auth-token              Delete a service auth token\r\n",
      "\r\n",
      "   service-brokers                        List service brokers\r\n",
      "   create-service-broker                  Create a service broker\r\n",
      "   update-service-broker                  Update a service broker\r\n",
      "   delete-service-broker                  Delete a service broker\r\n",
      "   rename-service-broker                  Rename a service broker\r\n",
      "\r\n",
      "   migrate-service-instances              Migrate service instances from one service plan to another\r\n",
      "   purge-service-offering                 Recursively remove a service and child objects from Cloud Foundry database without making requests to a service broker\r\n",
      "   purge-service-instance                 Recursively remove a service instance and child objects from Cloud Foundry database without making requests to a service broker\r\n",
      "\r\n",
      "   service-access                         List service access settings\r\n",
      "   enable-service-access                  Enable access to a service or service plan for one or all orgs\r\n",
      "   disable-service-access                 Disable access to a service or service plan for one or all orgs\r\n",
      "\r\n",
      "\u001b[1;38mSECURITY GROUP:\u001b[0m\r\n",
      "   security-group                         Show a single security group\r\n",
      "   security-groups                        List all security groups\r\n",
      "   create-security-group                  Create a security group\r\n",
      "   update-security-group                  Update a security group\r\n",
      "   delete-security-group                  Deletes a security group\r\n",
      "   bind-security-group                    Bind a security group to a space\r\n",
      "   unbind-security-group                  Unbind a security group from a space\r\n",
      "\r\n",
      "   bind-staging-security-group            Bind a security group to the list of security groups to be used for staging applications\r\n",
      "   staging-security-groups                List security groups in the staging set for applications\r\n",
      "   unbind-staging-security-group          Unbind a security group from the set of security groups for staging applications\r\n",
      "\r\n",
      "   bind-running-security-group            Bind a security group to the list of security groups to be used for running applications\r\n",
      "   running-security-groups                List security groups in the set of security groups for running applications\r\n",
      "   unbind-running-security-group          Unbind a security group from the set of security groups for running applications\r\n",
      "\r\n",
      "\u001b[1;38mENVIRONMENT VARIABLE GROUPS:\u001b[0m\r\n",
      "   running-environment-variable-group     Retrieve the contents of the running environment variable group\r\n",
      "   staging-environment-variable-group     Retrieve the contents of the staging environment variable group\r\n",
      "   set-staging-environment-variable-group Pass parameters as JSON to create a staging environment variable group\r\n",
      "   set-running-environment-variable-group Pass parameters as JSON to create a running environment variable group\r\n",
      "\r\n",
      "\u001b[1;38mFEATURE FLAGS:\u001b[0m\r\n",
      "   feature-flags                          Retrieve list of feature flags with status of each flag-able feature\r\n",
      "   feature-flag                           Retrieve an individual feature flag with status\r\n",
      "   enable-feature-flag                    Enable the use of a feature so that users have access to and can use the feature\r\n",
      "   disable-feature-flag                   Disable the use of a feature so that users have access to and can use the feature\r\n",
      "\r\n",
      "\u001b[1;38mADVANCED:\u001b[0m\r\n",
      "   curl                                   Executes a request to the targeted API endpoint\r\n",
      "   config                                 Write default values to the config\r\n",
      "   oauth-token                            Retrieve and display the OAuth token for the current session\r\n",
      "   ssh-code                               Get a one time password for ssh clients\r\n",
      "\r\n",
      "\u001b[1;38mADD/REMOVE PLUGIN REPOSITORY:\u001b[0m\r\n",
      "   add-plugin-repo                        Add a new plugin repository\r\n",
      "   remove-plugin-repo                     Remove a plugin repository\r\n",
      "   list-plugin-repos                      List all the added plugin repositories\r\n",
      "   repo-plugins                           List all available plugins in specified repository or in all added repositories\r\n",
      "\r\n",
      "\u001b[1;38mADD/REMOVE PLUGIN:\u001b[0m\r\n",
      "   plugins                                List all available plugin commands\r\n",
      "   install-plugin                         Install CLI plugin\r\n",
      "   uninstall-plugin                       Uninstall the plugin defined in command argument\r\n",
      "\r\n",
      "\u001b[1;38mINSTALLED PLUGIN COMMANDS:\u001b[0m\r\n",
      "   ic                                     IBM Containers plug-in\r\n",
      "\r\n",
      "\r\n",
      "\u001b[1;38mENVIRONMENT VARIABLES:\u001b[0m\r\n",
      "   CF_COLOR=false                     Do not colorize output\r\n",
      "   CF_HOME=path/to/dir/               Override path to default config directory\r\n",
      "   CF_PLUGIN_HOME=path/to/dir/        Override path to default plugin config directory\r\n",
      "   CF_STAGING_TIMEOUT=15              Max wait time for buildpack staging, in minutes\r\n",
      "   CF_STARTUP_TIMEOUT=5               Max wait time for app instance startup, in minutes\r\n",
      "   CF_TRACE=true                      Print API request diagnostics to stdout\r\n",
      "   CF_TRACE=path/to/trace.log         Append API request diagnostics to a log file\r\n",
      "   https_proxy=proxy.example.com:8080 Enable HTTP proxying for API requests\r\n",
      "\r\n",
      "\u001b[1;38mGLOBAL OPTIONS:\u001b[0m\r\n",
      "   --version, -v                      Print the version\r\n",
      "   --build, -b                        Print the version of Go the CLI was built against\r\n",
      "   --help, -h                         Show help\r\n",
      "\r\n"
     ]
    }
   ],
   "source": [
    "!cf"
   ]
  },
  {
   "cell_type": "code",
   "execution_count": 6,
   "metadata": {
    "collapsed": false,
    "scrolled": true,
    "slideshow": {
     "slide_type": "subslide"
    }
   },
   "outputs": [
    {
     "name": "stdout",
     "output_type": "stream",
     "text": [
      "NAME:\r\n",
      "   bx - A command line tool to interact with Bluemix\r\n",
      "\r\n",
      "USAGE:\r\n",
      "   [environment variables] bx [global options] command [arguments...] [command options]\r\n",
      "\r\n",
      "VERSION:\r\n",
      "   0.3.1-7b45723-2016-03-16T02:55:28+00:00\r\n",
      "\r\n",
      "COMMANDS:\r\n",
      "   api\t\t Set or view target API endpoint\r\n",
      "   login\t Log user in\r\n",
      "   logout\t Log user out\r\n",
      "   target\t Set or view the target org or space\r\n",
      "   info\t\t View Bluemix information\r\n",
      "   list\t\t List all CF applications, services, containers, container groups and VM groups in the target space\r\n",
      "   scale\t Change the instance count for an app or container group\r\n",
      "   curl\t\t Execute a raw HTTP request to Bluemix, content-type set to 'application/json' by default\r\n",
      "   config\t Write default values to the config\r\n",
      "   iam\t\t Manage orgs, spaces and users\r\n",
      "   catalog\t Manage Bluemix catalog\r\n",
      "   app\t\t Manage Cloud Foundry applications\r\n",
      "   vm\t\t Manage virtual servers\r\n",
      "   ic\t\t Manage IBM containers\r\n",
      "   service\t Manage Bluemix services\r\n",
      "   network\t Manage network settings including region, domain, route and security group\r\n",
      "   security\t Manage security settings\r\n",
      "   plugin\t Manage plug-ins and plug-in repositories\r\n",
      "   cf\t\t Run Cloud Foundry CLI with Bluemix context\r\n",
      "   help\t\t \r\n",
      "   \r\n",
      "Enter 'bx help [command]' for more information about a command.\r\n",
      "\r\n",
      "ENVIRONMENT VARIABLES:\r\n",
      "   BLUEMIX_COLOR=false                     Do not colorize output\r\n",
      "   BLUEMIX_TRACE=true                      Print API request diagnostics to stdout\r\n",
      "   BLUEMIX_TRACE=path/to/trace.log         Append API request diagnostics to a log file\r\n",
      "\r\n",
      "GLOBAL OPTIONS:\r\n",
      "   --version, -v                      Print the version\r\n",
      "   --help, -h                         Show help\r\n",
      "\r\n"
     ]
    }
   ],
   "source": [
    "!bx"
   ]
  },
  {
   "cell_type": "markdown",
   "metadata": {
    "slideshow": {
     "slide_type": "slide"
    }
   },
   "source": [
    "# Bluemix Services\n",
    "***\n",
    "* Providers\n",
    "* Categories & Catalogs\n",
    "* Availability\n",
    "* Provisioning\n",
    "* Pricing"
   ]
  },
  {
   "cell_type": "markdown",
   "metadata": {
    "slideshow": {
     "slide_type": "slide"
    }
   },
   "source": [
    "# Bluemix Dedicated/Local: Administration\n",
    "***\n",
    "* System Information\n",
    "* System Monitoring\n",
    "* User Management\n",
    "* Organization Administration\n",
    "* Service/Catalog Management, Customer Service Brokers\n",
    "* Reports & Logs: Audit/Security Information"
   ]
  },
  {
   "cell_type": "markdown",
   "metadata": {
    "slideshow": {
     "slide_type": "slide"
    }
   },
   "source": [
    "# Develop and Deploy Applications\n",
    "***\n",
    "* Local or Cloud-based editors, including graphical programming (e.g., Node-RED)\n",
    "* Code repositories to share code, e.g., Git, SVN\n",
    "* DevOps Services, CI/CD (Continous Integration, Continous Delivery)\n",
    "* Test, Staging, Production Environments\n"
   ]
  },
  {
   "cell_type": "markdown",
   "metadata": {
    "slideshow": {
     "slide_type": "slide"
    }
   },
   "source": [
    "# Bluemix - Getting Started\n",
    "***\n",
    "* Blog entries:\n",
    "    * Overview: https://developer.ibm.com/bluemix/2016/02/18/getting-started-with-bluemix/\n",
    "    * Support: https://developer.ibm.com/bluemix/2016/02/08/get-bluemix-support/\n",
    "* Bluemix Portal and App Galleries\n",
    "* \"Getting Started\" section for most services, see docs"
   ]
  },
  {
   "cell_type": "markdown",
   "metadata": {
    "slideshow": {
     "slide_type": "slide"
    }
   },
   "source": [
    "# Closing Remarks\n",
    "***\n",
    "* Have fun - plenty of services and features\n",
    "* Start here: http://bluemix.net\n",
    "* Ask programming questions at Stack Overflow   \n",
    "  http://stackoverflow.com/questions/tagged/bluemix\n"
   ]
  },
  {
   "cell_type": "code",
   "execution_count": null,
   "metadata": {
    "collapsed": true
   },
   "outputs": [],
   "source": []
  }
 ],
 "metadata": {
  "celltoolbar": "Slideshow",
  "kernelspec": {
   "display_name": "Python 2",
   "language": "python",
   "name": "python2"
  },
  "language_info": {
   "codemirror_mode": {
    "name": "ipython",
    "version": 2
   },
   "file_extension": ".py",
   "mimetype": "text/x-python",
   "name": "python",
   "nbconvert_exporter": "python",
   "pygments_lexer": "ipython2",
   "version": "2.7.5"
  }
 },
 "nbformat": 4,
 "nbformat_minor": 0
}
