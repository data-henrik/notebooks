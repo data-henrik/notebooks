{
 "cells": [
  {
   "cell_type": "markdown",
   "metadata": {
    "slideshow": {
     "slide_type": "skip"
    }
   },
   "source": [
    "# Notebook für DeDUG-Treffen, 20.04.2018"
   ]
  },
  {
   "cell_type": "code",
   "execution_count": 1,
   "metadata": {
    "slideshow": {
     "slide_type": "skip"
    }
   },
   "outputs": [
    {
     "data": {
      "text/plain": [
       "{u'after_body': 'ibm_closing.html',\n",
       " u'slidenumber': 'true',\n",
       " u'start_slideshow_at': 'selected',\n",
       " u'transition': u'none'}"
      ]
     },
     "execution_count": 1,
     "metadata": {},
     "output_type": "execute_result"
    }
   ],
   "source": [
    "from notebook.services.config import ConfigManager\n",
    "cm = ConfigManager()\n",
    "cm.update('livereveal', {\n",
    "              'start_slideshow_at': 'selected',\n",
    "              'slidenumber' : 'true',\n",
    "        'after_body' : 'ibm_closing.html'\n",
    "        \n",
    "})"
   ]
  },
  {
   "cell_type": "code",
   "execution_count": 1,
   "metadata": {
    "slideshow": {
     "slide_type": "skip"
    }
   },
   "outputs": [],
   "source": [
    "# Datei hat Variable \"LocalDB2password\" mit zugewiesenem Passwort\n",
    "filename = \"myvariable.py\""
   ]
  },
  {
   "cell_type": "code",
   "execution_count": 4,
   "metadata": {
    "slideshow": {
     "slide_type": "skip"
    }
   },
   "outputs": [],
   "source": [
    "%run $filename"
   ]
  },
  {
   "cell_type": "markdown",
   "metadata": {
    "slideshow": {
     "slide_type": "slide"
    }
   },
   "source": [
    "# SQL-Rekursion in Db2\n",
    "***\n",
    "\n",
    "## Dr. Henrik Loeser, 20.04.2018\n",
    "Offering Manager & Developer Advocate<br>\n",
    "Focus: IBM Cloud with Data & Analytics, Data Security, Privacy & Compliance\n",
    "\n",
    "\n",
    "* Email: hloeser@de.ibm.com\n",
    "* Twitter: @data_henrik\n",
    "* Blog: http://blog.4loeser.net\n",
    "* LinkedIn: http://de.linkedin.com/in/henrikloeser\n",
    "* GitHub: https://github.com/data-henrik\n",
    "\n",
    "\n"
   ]
  },
  {
   "cell_type": "markdown",
   "metadata": {
    "slideshow": {
     "slide_type": "slide"
    }
   },
   "source": [
    "# Agenda\n",
    "***\n",
    "* Rekursion\n",
    "* SQL Rekursion\n",
    "* Common Table Expression (CTE)\n",
    "\n",
    "\n"
   ]
  },
  {
   "cell_type": "markdown",
   "metadata": {
    "slideshow": {
     "slide_type": "slide"
    }
   },
   "source": [
    "# Rekursion\n",
    "***\n",
    "* Lateinisch: recurrere (\"zurücklaufen\")\n",
    "* Wikipedia:\n",
    "  > Als Rekursion bezeichnet man den abstrakten Vorgang, dass Regeln auf ein Produkt, das sie hervorgebracht haben, von neuem angewandt werden. Hierdurch entstehen potenziell unendliche Schleifen.\n",
    "* Kunst: \"Mise en abyme\", ohne Boden, unendlich\n",
    "* Beispiele: Sauerteig, Droste-Effekt, mehrere Spiegel\n",
    "* rekursive Abkürzungen: \"IBM bietet mehr\", GNU, \n",
    "\n",
    "\n"
   ]
  },
  {
   "cell_type": "markdown",
   "metadata": {
    "slideshow": {
     "slide_type": "slide"
    }
   },
   "source": [
    "![](https://upload.wikimedia.org/wikipedia/commons/7/77/La_vache_qui_rit.jpg)"
   ]
  },
  {
   "cell_type": "markdown",
   "metadata": {
    "slideshow": {
     "slide_type": "slide"
    }
   },
   "source": [
    "![](http://web.cs.ucla.edu/~klinger/dorene/Gif/escher-hands.gif)"
   ]
  },
  {
   "cell_type": "markdown",
   "metadata": {
    "slideshow": {
     "slide_type": "slide"
    }
   },
   "source": [
    "![](https://upload.wikimedia.org/wikipedia/commons/thumb/d/d9/Droste_Cacao_Alcalinise_blikje%2C_foto4.JPG/800px-Droste_Cacao_Alcalinise_blikje%2C_foto4.JPG)"
   ]
  },
  {
   "cell_type": "markdown",
   "metadata": {
    "slideshow": {
     "slide_type": "slide"
    }
   },
   "source": [
    "# SQL-Rekursion\n",
    "***\n",
    "* Berechnung von Materiallisten (bill of material)\n",
    "* Ersatz für VIEW-Definitionen\n",
    "\n",
    "\n"
   ]
  },
  {
   "cell_type": "markdown",
   "metadata": {
    "slideshow": {
     "slide_type": "slide"
    }
   },
   "source": [
    "# SQL Rekursion und DB2\n",
    "* Common Table Expression\n",
    "* CONNECT BY (Oracle-Syntax)"
   ]
  },
  {
   "cell_type": "markdown",
   "metadata": {
    "slideshow": {
     "slide_type": "slide"
    }
   },
   "source": [
    "# SQL Rekursion und DB2: CTE\n",
    "\n",
    "* Generelle Syntax:   \n",
    "`    WITH with_query [, ...]`   \n",
    "`     SELECT...`\n",
    "* with_query:   \n",
    "`query_name [ (column_name [,...]) ] AS (SELECT ...)`\n",
    "* Eine oder mehrere Tabellendefinitionen (\"query_name\") sind möglich\n",
    "* Wechselseitige Abhängigkeiten nicht erlaubt\n"
   ]
  },
  {
   "cell_type": "markdown",
   "metadata": {
    "slideshow": {
     "slide_type": "slide"
    }
   },
   "source": [
    "# Zusammenfassung\n",
    "***\n",
    "* siehe Einführung zu Rekursion\n",
    "* falls Sie hier lesen, war irgendwo eine Abbruchbedingung erfolgreich\n",
    "* Rekursion in SQL über Common Table Expression oder Anbieter-spezifische Konstrukte\n",
    "* Einfach, ein System in die Knie zu zwingen\n",
    "  "
   ]
  },
  {
   "cell_type": "code",
   "execution_count": 5,
   "metadata": {
    "slideshow": {
     "slide_type": "skip"
    }
   },
   "outputs": [
    {
     "name": "stdout",
     "output_type": "stream",
     "text": [
      "The sql extension is already loaded. To reload it, use:\n",
      "  %reload_ext sql\n"
     ]
    }
   ],
   "source": [
    "# loads the SQL magic extensions\n",
    "%load_ext sql"
   ]
  },
  {
   "cell_type": "code",
   "execution_count": 6,
   "metadata": {
    "slideshow": {
     "slide_type": "skip"
    }
   },
   "outputs": [
    {
     "data": {
      "text/plain": [
       "u'Connected: hloeser@SAMPLE'"
      ]
     },
     "execution_count": 6,
     "metadata": {},
     "output_type": "execute_result"
    }
   ],
   "source": [
    "# Connect to Db2\n",
    "%sql db2+ibm_db://hloeser:$LocalDB2password@localhost:50000/SAMPLE        "
   ]
  },
  {
   "cell_type": "markdown",
   "metadata": {
    "slideshow": {
     "slide_type": "slide"
    }
   },
   "source": [
    "### Berechnung der Fakultät\n",
    "als einfaches Beispiel"
   ]
  },
  {
   "cell_type": "code",
   "execution_count": 7,
   "metadata": {
    "slideshow": {
     "slide_type": "fragment"
    }
   },
   "outputs": [
    {
     "name": "stdout",
     "output_type": "stream",
     "text": [
      " * db2+ibm_db://hloeser:***@localhost:50000/SAMPLE\n",
      "Done.\n"
     ]
    },
    {
     "data": {
      "text/html": [
       "<table>\n",
       "    <tr>\n",
       "        <th>n</th>\n",
       "        <th>fact</th>\n",
       "    </tr>\n",
       "    <tr>\n",
       "        <td>0</td>\n",
       "        <td>1</td>\n",
       "    </tr>\n",
       "    <tr>\n",
       "        <td>1</td>\n",
       "        <td>1</td>\n",
       "    </tr>\n",
       "    <tr>\n",
       "        <td>2</td>\n",
       "        <td>2</td>\n",
       "    </tr>\n",
       "    <tr>\n",
       "        <td>3</td>\n",
       "        <td>6</td>\n",
       "    </tr>\n",
       "    <tr>\n",
       "        <td>4</td>\n",
       "        <td>24</td>\n",
       "    </tr>\n",
       "    <tr>\n",
       "        <td>5</td>\n",
       "        <td>120</td>\n",
       "    </tr>\n",
       "    <tr>\n",
       "        <td>6</td>\n",
       "        <td>720</td>\n",
       "    </tr>\n",
       "    <tr>\n",
       "        <td>7</td>\n",
       "        <td>5040</td>\n",
       "    </tr>\n",
       "    <tr>\n",
       "        <td>8</td>\n",
       "        <td>40320</td>\n",
       "    </tr>\n",
       "    <tr>\n",
       "        <td>9</td>\n",
       "        <td>362880</td>\n",
       "    </tr>\n",
       "</table>"
      ],
      "text/plain": [
       "[(0, 1),\n",
       " (1, 1),\n",
       " (2, 2),\n",
       " (3, 6),\n",
       " (4, 24),\n",
       " (5, 120),\n",
       " (6, 720),\n",
       " (7, 5040),\n",
       " (8, 40320),\n",
       " (9, 362880)]"
      ]
     },
     "execution_count": 7,
     "metadata": {},
     "output_type": "execute_result"
    }
   ],
   "source": [
    "%%sql\n",
    "WITH  temp (n, fact) AS \n",
    "(values( 0, 1 )\n",
    "  UNION ALL \n",
    " SELECT n+1, (n+1)*fact FROM temp \n",
    "        WHERE n < 9)\n",
    "SELECT * FROM temp\n"
   ]
  },
  {
   "cell_type": "markdown",
   "metadata": {
    "slideshow": {
     "slide_type": "slide"
    }
   },
   "source": [
    "## Keine Faktualität, aber Summen"
   ]
  },
  {
   "cell_type": "code",
   "execution_count": 8,
   "metadata": {
    "slideshow": {
     "slide_type": "fragment"
    }
   },
   "outputs": [
    {
     "name": "stdout",
     "output_type": "stream",
     "text": [
      " * db2+ibm_db://hloeser:***@localhost:50000/SAMPLE\n",
      "Done.\n"
     ]
    },
    {
     "data": {
      "text/html": [
       "<table>\n",
       "    <tr>\n",
       "        <th>level</th>\n",
       "        <th>mysum</th>\n",
       "    </tr>\n",
       "    <tr>\n",
       "        <td>1</td>\n",
       "        <td>1</td>\n",
       "    </tr>\n",
       "    <tr>\n",
       "        <td>2</td>\n",
       "        <td>2</td>\n",
       "    </tr>\n",
       "    <tr>\n",
       "        <td>3</td>\n",
       "        <td>4</td>\n",
       "    </tr>\n",
       "    <tr>\n",
       "        <td>4</td>\n",
       "        <td>8</td>\n",
       "    </tr>\n",
       "    <tr>\n",
       "        <td>5</td>\n",
       "        <td>16</td>\n",
       "    </tr>\n",
       "</table>"
      ],
      "text/plain": [
       "[(1, 1), (2, 2), (3, 4), (4, 8), (5, 16)]"
      ]
     },
     "execution_count": 8,
     "metadata": {},
     "output_type": "execute_result"
    }
   ],
   "source": [
    "%%sql \n",
    "with mytable(level,mysum) as (values(1,1) \n",
    "union all \n",
    "select level+1, mysum+mysum\n",
    "from mytable where level<5)\n",
    "select level, mysum\n",
    "from mytable"
   ]
  },
  {
   "cell_type": "markdown",
   "metadata": {
    "slideshow": {
     "slide_type": "slide"
    }
   },
   "source": [
    "## Tabellenabhängigkeit\n",
    "* Ermittlung der Reihenfolge, in welcher Tabellen einer Datenbank zu importieren sind\n",
    "* Reduziert Probleme mit Querverweisen / Referenzen\n",
    "* Danke an Fiducia und GAD IT AG"
   ]
  },
  {
   "cell_type": "code",
   "execution_count": 37,
   "metadata": {
    "slideshow": {
     "slide_type": "slide"
    }
   },
   "outputs": [
    {
     "name": "stdout",
     "output_type": "stream",
     "text": [
      " * db2+ibm_db://hloeser:***@localhost:50000/SAMPLE\n",
      "Done.\n"
     ]
    },
    {
     "data": {
      "text/html": [
       "<table>\n",
       "    <tr>\n",
       "        <th>TABLE</th>\n",
       "        <th>mlevel</th>\n",
       "    </tr>\n",
       "    <tr>\n",
       "        <td>HLOESER.ACT</td>\n",
       "        <td>1</td>\n",
       "    </tr>\n",
       "    <tr>\n",
       "        <td>HLOESER.CATALOG</td>\n",
       "        <td>1</td>\n",
       "    </tr>\n",
       "    <tr>\n",
       "        <td>HLOESER.CL_SCHED</td>\n",
       "        <td>1</td>\n",
       "    </tr>\n",
       "    <tr>\n",
       "        <td>HLOESER.CUSTOMER</td>\n",
       "        <td>1</td>\n",
       "    </tr>\n",
       "    <tr>\n",
       "        <td>HLOESER.EMPMDC</td>\n",
       "        <td>1</td>\n",
       "    </tr>\n",
       "    <tr>\n",
       "        <td>HLOESER.INVENTORY</td>\n",
       "        <td>1</td>\n",
       "    </tr>\n",
       "    <tr>\n",
       "        <td>HLOESER.IN_TRAY</td>\n",
       "        <td>1</td>\n",
       "    </tr>\n",
       "    <tr>\n",
       "        <td>HLOESER.ORG</td>\n",
       "        <td>1</td>\n",
       "    </tr>\n",
       "    <tr>\n",
       "        <td>HLOESER.PRODUCT</td>\n",
       "        <td>1</td>\n",
       "    </tr>\n",
       "    <tr>\n",
       "        <td>HLOESER.PRODUCTSUPPLIER</td>\n",
       "        <td>1</td>\n",
       "    </tr>\n",
       "    <tr>\n",
       "        <td>HLOESER.SALES</td>\n",
       "        <td>1</td>\n",
       "    </tr>\n",
       "    <tr>\n",
       "        <td>HLOESER.STAFF</td>\n",
       "        <td>1</td>\n",
       "    </tr>\n",
       "    <tr>\n",
       "        <td>HLOESER.STAFFG</td>\n",
       "        <td>1</td>\n",
       "    </tr>\n",
       "    <tr>\n",
       "        <td>HLOESER.SUPPLIERS</td>\n",
       "        <td>1</td>\n",
       "    </tr>\n",
       "    <tr>\n",
       "        <td>HLOESER.PURCHASEORDER</td>\n",
       "        <td>2</td>\n",
       "    </tr>\n",
       "</table>"
      ],
      "text/plain": [
       "[(u'HLOESER.ACT', 1),\n",
       " (u'HLOESER.CATALOG', 1),\n",
       " (u'HLOESER.CL_SCHED', 1),\n",
       " (u'HLOESER.CUSTOMER', 1),\n",
       " (u'HLOESER.EMPMDC', 1),\n",
       " (u'HLOESER.INVENTORY', 1),\n",
       " (u'HLOESER.IN_TRAY', 1),\n",
       " (u'HLOESER.ORG', 1),\n",
       " (u'HLOESER.PRODUCT', 1),\n",
       " (u'HLOESER.PRODUCTSUPPLIER', 1),\n",
       " (u'HLOESER.SALES', 1),\n",
       " (u'HLOESER.STAFF', 1),\n",
       " (u'HLOESER.STAFFG', 1),\n",
       " (u'HLOESER.SUPPLIERS', 1),\n",
       " (u'HLOESER.PURCHASEORDER', 2)]"
      ]
     },
     "execution_count": 37,
     "metadata": {},
     "output_type": "execute_result"
    }
   ],
   "source": [
    "%%sql \n",
    "WITH temp1 (tabname,reftable) AS\n",
    "       (\n",
    "         SELECT distinct rtrim(t.tabschema)||'.'||t.tabname,\n",
    "                NULLIF(rtrim(r.reftabschema)||'.'||r.reftabname,\n",
    "                rtrim(t.tabschema)||'.'||t.tabname) AS reftable\n",
    "         FROM syscat.tables AS t\n",
    "              LEFT OUTER JOIN syscat.references AS r\n",
    "              ON t.tabschema = r.tabschema AND t.tabname = r.tabname\n",
    "         WHERE t.tabschema NOT LIKE  'SYS%' AND type = 'T'),\n",
    "     temp2 (table, reftable,lvl) AS\n",
    "       (\n",
    "         SELECT tabname,reftable,1\n",
    "         FROM temp1\n",
    "         WHERE reftable IS null\n",
    "               AND tabname NOT IN (select tabname from temp1\n",
    "                                   where reftable is not null)\n",
    "         UNION ALL\n",
    "         SELECT t.tabname,t.reftable,z.lvl+1\n",
    "         FROM temp1 AS t, temp2 AS z\n",
    "         WHERE t.reftable = z.table)\n",
    "SELECT table,MAX(lvl) AS mlevel\n",
    "FROM temp2\n",
    "GROUP BY table\n",
    "ORDER BY mlevel,table"
   ]
  },
  {
   "cell_type": "markdown",
   "metadata": {},
   "source": [
    "## Lösung eines Sudoku"
   ]
  },
  {
   "cell_type": "code",
   "execution_count": 9,
   "metadata": {
    "slideshow": {
     "slide_type": "slide"
    }
   },
   "outputs": [
    {
     "name": "stdout",
     "output_type": "stream",
     "text": [
      " * db2+ibm_db://hloeser:***@localhost:50000/SAMPLE\n",
      "Done.\n",
      "Returning data to local variable sudoku\n"
     ]
    }
   ],
   "source": [
    "%%sql sudoku << \n",
    "WITH \n",
    "  INPUT(sud) AS (\n",
    "    VALUES('53..7....6..195....98....6.8...6...34..8.3..17...2...6.6....28....419..5....8..79')\n",
    "  ),\n",
    "  DIGITS(z, lp) AS (\n",
    "    VALUES('1', 1)\n",
    "    UNION ALL SELECT\n",
    "    CAST(lp+1 AS varchar(200)), lp+1 FROM DIGITS WHERE lp<9\n",
    "  ),\n",
    "  X(s, ind) AS (\n",
    "    SELECT sud, instr(sud, '.') FROM INPUT\n",
    "    UNION ALL\n",
    "    SELECT\n",
    "      substr(s, 1, ind-1) || z || substr(s, ind+1),\n",
    "      instr( substr(s, 1, ind-1) || z || substr(s, ind+1), '.' )\n",
    "    FROM X, DIGITS AS z\n",
    "    WHERE ind>0\n",
    "      AND NOT EXISTS (\n",
    "            SELECT 1\n",
    "            FROM DIGITS AS lp\n",
    "            WHERE z.z = substr(s, ((ind-1)/9)*9 + lp, 1)\n",
    "                  OR z.z = substr(s, ((ind-1)%9) + (lp-1)*9 + 1, 1)\n",
    "                  OR z.z = substr(s, (((ind-1)/3) % 3) * 3\n",
    "                        + ((ind-1)/27) * 27 + lp\n",
    "                        + ((lp-1) / 3) * 6, 1)\n",
    "         )\n",
    "  )\n",
    "SELECT s as solution FROM X WHERE ind=0;\n"
   ]
  },
  {
   "cell_type": "code",
   "execution_count": 58,
   "metadata": {
    "slideshow": {
     "slide_type": "slide"
    }
   },
   "outputs": [
    {
     "name": "stdout",
     "output_type": "stream",
     "text": [
      "Kleiner Test\n",
      "+---+---+---+\n",
      "|534|678|912|\n",
      "|672|195|348|\n",
      "|198|342|567|\n",
      "+---+---+---+\n",
      "|859|761|423|\n",
      "|426|853|791|\n",
      "|713|924|856|\n",
      "+---+---+---+\n",
      "|961|537|284|\n",
      "|287|419|635|\n",
      "|345|286|179|\n",
      "+---+---+---+\n"
     ]
    }
   ],
   "source": [
    "print \"Kleiner Test\"\n",
    "s2=sudoku.dict()['solution']\n",
    "for y in range(0,9):\n",
    "    if y in (0,3,6):\n",
    "        print '+---+---+---+'\n",
    "    line=''\n",
    "    for z in range(0,3):\n",
    "        line=line+'|'\n",
    "        mypos=y*9+z*3\n",
    "        line=line+(s2[0][mypos:3+mypos])\n",
    "    print line+'|'\n",
    "print '+---+---+---+'\n",
    "    "
   ]
  },
  {
   "cell_type": "markdown",
   "metadata": {},
   "source": [
    "## CTE mit XML-Daten\n",
    "* Achtung: es ist sehr einfach, große Daten zu erzeugen"
   ]
  },
  {
   "cell_type": "code",
   "execution_count": 10,
   "metadata": {
    "slideshow": {
     "slide_type": "slide"
    }
   },
   "outputs": [
    {
     "name": "stdout",
     "output_type": "stream",
     "text": [
      " * db2+ibm_db://hloeser:***@localhost:50000/SAMPLE\n",
      "Done.\n"
     ]
    },
    {
     "data": {
      "text/html": [
       "<table>\n",
       "    <tr>\n",
       "        <th>level</th>\n",
       "        <th>mydoc</th>\n",
       "    </tr>\n",
       "    <tr>\n",
       "        <td>5</td>\n",
       "        <td>﻿&lt;?xml version=\"1.0\" encoding=\"UTF-16\" ?&gt;&lt;foo&gt;&lt;foo&gt;&lt;foo&gt;&lt;foo&gt;&lt;bar&gt;Hello world&lt;/bar&gt;&lt;bar&gt;Hello world&lt;/bar&gt;&lt;/foo&gt;&lt;foo&gt;&lt;bar&gt;Hello world&lt;/bar&gt;&lt;bar&gt;Hello world&lt;/bar&gt;&lt;/foo&gt;&lt;/foo&gt;&lt;foo&gt;&lt;foo&gt;&lt;bar&gt;Hello world&lt;/bar&gt;&lt;bar&gt;Hello world&lt;/bar&gt;&lt;/foo&gt;&lt;foo&gt;&lt;bar&gt;Hello world&lt;/bar&gt;&lt;bar&gt;Hello world&lt;/bar&gt;&lt;/foo&gt;&lt;/foo&gt;&lt;/foo&gt;&lt;foo&gt;&lt;foo&gt;&lt;foo&gt;&lt;bar&gt;Hello world&lt;/bar&gt;&lt;bar&gt;Hello world&lt;/bar&gt;&lt;/foo&gt;&lt;foo&gt;&lt;bar&gt;Hello world&lt;/bar&gt;&lt;bar&gt;Hello world&lt;/bar&gt;&lt;/foo&gt;&lt;/foo&gt;&lt;foo&gt;&lt;foo&gt;&lt;bar&gt;Hello world&lt;/bar&gt;&lt;bar&gt;Hello world&lt;/bar&gt;&lt;/foo&gt;&lt;foo&gt;&lt;bar&gt;Hello world&lt;/bar&gt;&lt;bar&gt;Hello world&lt;/bar&gt;&lt;/foo&gt;&lt;/foo&gt;&lt;/foo&gt;&lt;/foo&gt;</td>\n",
       "    </tr>\n",
       "</table>"
      ],
      "text/plain": [
       "[(5, u'\\ufeff<?xml version=\"1.0\" encoding=\"UTF-16\" ?><foo><foo><foo><foo><bar>Hello world</bar><bar>Hello world</bar></foo><foo><bar>Hello world</bar><bar> ... (266 characters truncated) ... bar></foo></foo><foo><foo><bar>Hello world</bar><bar>Hello world</bar></foo><foo><bar>Hello world</bar><bar>Hello world</bar></foo></foo></foo></foo>')]"
      ]
     },
     "execution_count": 10,
     "metadata": {},
     "output_type": "execute_result"
    }
   ],
   "source": [
    "%%sql \n",
    "with mytable(level,mydoc) as\n",
    "(values(1,xmlelement(name \"bar\", 'Hello world')) \n",
    "union all \n",
    "select level+1, xmlelement(name \"foo\", mydoc, mydoc)\n",
    "from mytable where level<5)\n",
    "select level, mydoc\n",
    "from mytable\n",
    "where level=5"
   ]
  },
  {
   "cell_type": "code",
   "execution_count": 15,
   "metadata": {
    "slideshow": {
     "slide_type": "slide"
    }
   },
   "outputs": [
    {
     "name": "stdout",
     "output_type": "stream",
     "text": [
      " * db2+ibm_db://hloeser:***@localhost:50000/SAMPLE\n",
      "Done.\n"
     ]
    },
    {
     "data": {
      "text/html": [
       "<table>\n",
       "    <tr>\n",
       "        <th>level</th>\n",
       "        <th>2</th>\n",
       "    </tr>\n",
       "    <tr>\n",
       "        <td>18</td>\n",
       "        <td>﻿&lt;?xml version=\"1.0\" encoding=\"UTF-16\" ?&gt;&lt;root&gt;&lt;last&gt;&lt;last&gt;&lt;last&gt;&lt;last&gt;&lt;last&gt;&lt;last&gt;&lt;last&gt;&lt;last&gt;&lt;last&gt;&lt;last&gt;&lt;last&gt;&lt;last&gt;&lt;last&gt;&lt;last&gt;&lt;later&gt;&lt;later&gt;&lt;later&gt;&lt;first&gt;deep down - hello&lt;/first&gt;&lt;first&gt;deep down - hello&lt;/first&gt;&lt;/later&gt;&lt;later&gt;&lt;first&gt;deep down - hello&lt;/first&gt;&lt;first&gt;deep down - hello&lt;/first&gt;&lt;/later&gt;&lt;/later&gt;&lt;later&gt;&lt;later&gt;&lt;first&gt;deep down - hello&lt;/first&gt;&lt;first&gt;deep down - hello&lt;/first&gt;&lt;/later&gt;&lt;later&gt;&lt;first&gt;deep down - hello&lt;/first&gt;&lt;first&gt;deep down - hello&lt;/first&gt;&lt;/later&gt;&lt;/later&gt;&lt;/later&gt;the end is near...?!&lt;/last&gt;the end is near...?!&lt;/last&gt;the end is near...?!&lt;/last&gt;the end is near...?!&lt;/last&gt;the end is near...?!&lt;/last&gt;the end is near...?!&lt;/last&gt;the end is near...?!&lt;/last&gt;the end is near...?!&lt;/last&gt;the end is near...?!&lt;/last&gt;the end is near...?!&lt;/last&gt;the end is near...?!&lt;/last&gt;the end is near...?!&lt;/last&gt;the end is near...?!&lt;/last&gt;the end is near...?!&lt;/last&gt;&lt;/root&gt;</td>\n",
       "    </tr>\n",
       "</table>"
      ],
      "text/plain": [
       "[(18, u'\\ufeff<?xml version=\"1.0\" encoding=\"UTF-16\" ?><root><last><last><last><last><last><last><last><last><last><last><last><last><last><last><later><late ... (585 characters truncated) ... </last>the end is near...?!</last>the end is near...?!</last>the end is near...?!</last>the end is near...?!</last>the end is near...?!</last></root>')]"
      ]
     },
     "execution_count": 15,
     "metadata": {},
     "output_type": "execute_result"
    }
   ],
   "source": [
    "%%sql \n",
    "with mytable(level,mydoc) as\n",
    "(values(1,xmlelement(name \"first\", 'deep down - hello')) \n",
    "union all \n",
    "select level+1, \n",
    " case when level <4 then \n",
    " xmlelement(name \"later\", mydoc, mydoc)\n",
    "else xmlelement(name \"last\", mydoc, 'the end is near...?!')\n",
    " end\n",
    "from mytable where level<18)\n",
    "select level, xmlelement(name \"root\",mydoc)\n",
    "from mytable\n",
    "where level=18"
   ]
  },
  {
   "cell_type": "code",
   "execution_count": 12,
   "metadata": {
    "slideshow": {
     "slide_type": "slide"
    }
   },
   "outputs": [
    {
     "name": "stdout",
     "output_type": "stream",
     "text": [
      " * db2+ibm_db://hloeser:***@localhost:50000/SAMPLE\n",
      "Done.\n"
     ]
    },
    {
     "data": {
      "text/html": [
       "<table>\n",
       "    <tr>\n",
       "        <th>level</th>\n",
       "        <th>mystmt</th>\n",
       "    </tr>\n",
       "    <tr>\n",
       "        <td>1</td>\n",
       "        <td>insert into foobar values (1, 'Henrik was here')</td>\n",
       "    </tr>\n",
       "    <tr>\n",
       "        <td>2</td>\n",
       "        <td>insert into foobar values (1, 'Henrik was here'),(1, 'Hello')</td>\n",
       "    </tr>\n",
       "    <tr>\n",
       "        <td>3</td>\n",
       "        <td>insert into foobar values (1, 'Henrik was here'),(1, 'Hello'),(2, 'Hello')</td>\n",
       "    </tr>\n",
       "    <tr>\n",
       "        <td>4</td>\n",
       "        <td>insert into foobar values (1, 'Henrik was here'),(1, 'Hello'),(2, 'Hello'),(3, 'Hello')</td>\n",
       "    </tr>\n",
       "</table>"
      ],
      "text/plain": [
       "[(1, u\"insert into foobar values (1, 'Henrik was here')\"),\n",
       " (2, u\"insert into foobar values (1, 'Henrik was here'),(1, 'Hello')\"),\n",
       " (3, u\"insert into foobar values (1, 'Henrik was here'),(1, 'Hello'),(2, 'Hello')\"),\n",
       " (4, u\"insert into foobar values (1, 'Henrik was here'),(1, 'Hello'),(2, 'Hello'),(3, 'Hello')\")]"
      ]
     },
     "execution_count": 12,
     "metadata": {},
     "output_type": "execute_result"
    }
   ],
   "source": [
    "%%sql \n",
    "with mytable(level,mystmt)\n",
    "as (values(1,cast \n",
    "('insert into foobar values (1, \n",
    " ''Henrik was here'')' as varchar(500)) ) \n",
    "union all \n",
    "select level+1,\n",
    "        mystmt || ',(' || level || ', ''Hello'')' \n",
    "from mytable where level<4)\n",
    "select level, mystmt\n",
    "from mytable"
   ]
  },
  {
   "cell_type": "markdown",
   "metadata": {
    "slideshow": {
     "slide_type": "slide"
    }
   },
   "source": [
    "Beispiel 7 aus der [Db2-Dokumentation mit SQL-Beispielen](\n",
    "https://www.ibm.com/support/knowledgecenter/SSEPGG_11.1.0/com.ibm.db2.luw.sql.ref.doc/doc/r0059224.html):"
   ]
  },
  {
   "cell_type": "markdown",
   "metadata": {
    "slideshow": {
     "slide_type": "fragment"
    }
   },
   "source": [
    "`WITH\n",
    "    NEWEMP AS (SELECT EMPNO FROM NEW TABLE\n",
    "                (INSERT INTO EMPLOYEE(EMPNO, FIRSTNME)\n",
    "                    VALUES(NEXT VALUE FOR EMPNO_SEQ, 'GEORGE'))),\n",
    "    OLDEMP AS (SELECT EMPNO FROM EMPLOYEE WHERE FIRSTNME = 'SALLY'),\n",
    "    UPPROJ AS (SELECT PROJNAME FROM NEW TABLE\n",
    "                (UPDATE PROJECT\n",
    "                    SET RESPEMP = (SELECT EMPNO FROM NEWEMP)\n",
    "                    WHERE RESPEMP = (SELECT EMPNO FROM OLDEMP))),\n",
    "    DELEMP AS (SELECT EMPNO FROM OLD TABLE\n",
    "                (DELETE FROM EMPLOYEE\n",
    "                    WHERE EMPNO = (SELECT EMPNO FROM OLDEMP)))\n",
    "  SELECT PROJNAME FROM UPPROJ;`"
   ]
  },
  {
   "cell_type": "markdown",
   "metadata": {},
   "source": [
    "## CONNECT BY (Oracle-Syntax)\n",
    "Organisation der Abteilungen (DEPARTMENT) in der SAMPLE-DB"
   ]
  },
  {
   "cell_type": "code",
   "execution_count": 13,
   "metadata": {},
   "outputs": [
    {
     "name": "stdout",
     "output_type": "stream",
     "text": [
      " * db2+ibm_db://hloeser:***@localhost:50000/SAMPLE\n",
      "Done.\n"
     ]
    },
    {
     "data": {
      "text/html": [
       "<table>\n",
       "    <tr>\n",
       "        <th>level</th>\n",
       "        <th>deptname</th>\n",
       "    </tr>\n",
       "    <tr>\n",
       "        <td>1</td>\n",
       "        <td>/SPIFFY COMPUTER SERVICE DIV.</td>\n",
       "    </tr>\n",
       "    <tr>\n",
       "        <td>2</td>\n",
       "        <td>&nbsp;&nbsp;&nbsp;&nbsp;/PLANNING</td>\n",
       "    </tr>\n",
       "    <tr>\n",
       "        <td>2</td>\n",
       "        <td>&nbsp;&nbsp;&nbsp;&nbsp;/INFORMATION CENTER</td>\n",
       "    </tr>\n",
       "    <tr>\n",
       "        <td>2</td>\n",
       "        <td>&nbsp;&nbsp;&nbsp;&nbsp;/DEVELOPMENT CENTER</td>\n",
       "    </tr>\n",
       "    <tr>\n",
       "        <td>3</td>\n",
       "        <td>&nbsp;&nbsp;&nbsp;&nbsp;&nbsp;&nbsp;&nbsp;&nbsp;/MANUFACTURING SYSTEMS</td>\n",
       "    </tr>\n",
       "    <tr>\n",
       "        <td>3</td>\n",
       "        <td>&nbsp;&nbsp;&nbsp;&nbsp;&nbsp;&nbsp;&nbsp;&nbsp;/ADMINISTRATION SYSTEMS</td>\n",
       "    </tr>\n",
       "    <tr>\n",
       "        <td>2</td>\n",
       "        <td>&nbsp;&nbsp;&nbsp;&nbsp;/SUPPORT SERVICES</td>\n",
       "    </tr>\n",
       "    <tr>\n",
       "        <td>3</td>\n",
       "        <td>&nbsp;&nbsp;&nbsp;&nbsp;&nbsp;&nbsp;&nbsp;&nbsp;/OPERATIONS</td>\n",
       "    </tr>\n",
       "    <tr>\n",
       "        <td>3</td>\n",
       "        <td>&nbsp;&nbsp;&nbsp;&nbsp;&nbsp;&nbsp;&nbsp;&nbsp;/SOFTWARE SUPPORT</td>\n",
       "    </tr>\n",
       "    <tr>\n",
       "        <td>3</td>\n",
       "        <td>&nbsp;&nbsp;&nbsp;&nbsp;&nbsp;&nbsp;&nbsp;&nbsp;/BRANCH OFFICE F2</td>\n",
       "    </tr>\n",
       "    <tr>\n",
       "        <td>3</td>\n",
       "        <td>&nbsp;&nbsp;&nbsp;&nbsp;&nbsp;&nbsp;&nbsp;&nbsp;/BRANCH OFFICE G2</td>\n",
       "    </tr>\n",
       "    <tr>\n",
       "        <td>3</td>\n",
       "        <td>&nbsp;&nbsp;&nbsp;&nbsp;&nbsp;&nbsp;&nbsp;&nbsp;/BRANCH OFFICE H2</td>\n",
       "    </tr>\n",
       "    <tr>\n",
       "        <td>3</td>\n",
       "        <td>&nbsp;&nbsp;&nbsp;&nbsp;&nbsp;&nbsp;&nbsp;&nbsp;/BRANCH OFFICE I2</td>\n",
       "    </tr>\n",
       "    <tr>\n",
       "        <td>3</td>\n",
       "        <td>&nbsp;&nbsp;&nbsp;&nbsp;&nbsp;&nbsp;&nbsp;&nbsp;/BRANCH OFFICE J2</td>\n",
       "    </tr>\n",
       "</table>"
      ],
      "text/plain": [
       "[(1, u'/SPIFFY COMPUTER SERVICE DIV.'),\n",
       " (2, u'    /PLANNING'),\n",
       " (2, u'    /INFORMATION CENTER'),\n",
       " (2, u'    /DEVELOPMENT CENTER'),\n",
       " (3, u'        /MANUFACTURING SYSTEMS'),\n",
       " (3, u'        /ADMINISTRATION SYSTEMS'),\n",
       " (2, u'    /SUPPORT SERVICES'),\n",
       " (3, u'        /OPERATIONS'),\n",
       " (3, u'        /SOFTWARE SUPPORT'),\n",
       " (3, u'        /BRANCH OFFICE F2'),\n",
       " (3, u'        /BRANCH OFFICE G2'),\n",
       " (3, u'        /BRANCH OFFICE H2'),\n",
       " (3, u'        /BRANCH OFFICE I2'),\n",
       " (3, u'        /BRANCH OFFICE J2')]"
      ]
     },
     "execution_count": 13,
     "metadata": {},
     "output_type": "execute_result"
    }
   ],
   "source": [
    "%%sql  \n",
    "    SELECT LEVEL, CAST(SPACE((LEVEL - 1) * 4) || '/' || DEPTNAME\n",
    "       AS VARCHAR(40)) AS DEPTNAME\n",
    "     FROM DEPARTMENT\n",
    "     START WITH DEPTNO = 'A00'\n",
    "     CONNECT BY NOCYCLE PRIOR DEPTNO = ADMRDEPT"
   ]
  },
  {
   "cell_type": "markdown",
   "metadata": {},
   "source": [
    "## CTE\n",
    "Organisation der Abteilungen (DEPARTMENT) in der SAMPLE-DB"
   ]
  },
  {
   "cell_type": "code",
   "execution_count": 14,
   "metadata": {},
   "outputs": [
    {
     "name": "stdout",
     "output_type": "stream",
     "text": [
      " * db2+ibm_db://hloeser:***@localhost:50000/SAMPLE\n",
      "Done.\n"
     ]
    },
    {
     "data": {
      "text/html": [
       "<table>\n",
       "    <tr>\n",
       "        <th>level</th>\n",
       "        <th>deptname</th>\n",
       "    </tr>\n",
       "    <tr>\n",
       "        <td>1</td>\n",
       "        <td>SPIFFY COMPUTER SERVICE DIV.</td>\n",
       "    </tr>\n",
       "    <tr>\n",
       "        <td>2</td>\n",
       "        <td>&nbsp;&nbsp;&nbsp;&nbsp;/PLANNING</td>\n",
       "    </tr>\n",
       "    <tr>\n",
       "        <td>2</td>\n",
       "        <td>&nbsp;&nbsp;&nbsp;&nbsp;/INFORMATION CENTER</td>\n",
       "    </tr>\n",
       "    <tr>\n",
       "        <td>2</td>\n",
       "        <td>&nbsp;&nbsp;&nbsp;&nbsp;/DEVELOPMENT CENTER</td>\n",
       "    </tr>\n",
       "    <tr>\n",
       "        <td>2</td>\n",
       "        <td>&nbsp;&nbsp;&nbsp;&nbsp;/SUPPORT SERVICES</td>\n",
       "    </tr>\n",
       "    <tr>\n",
       "        <td>3</td>\n",
       "        <td>&nbsp;&nbsp;&nbsp;&nbsp;&nbsp;&nbsp;&nbsp;&nbsp;/MANUFACTURING SYSTEMS</td>\n",
       "    </tr>\n",
       "    <tr>\n",
       "        <td>3</td>\n",
       "        <td>&nbsp;&nbsp;&nbsp;&nbsp;&nbsp;&nbsp;&nbsp;&nbsp;/ADMINISTRATION SYSTEMS</td>\n",
       "    </tr>\n",
       "    <tr>\n",
       "        <td>3</td>\n",
       "        <td>&nbsp;&nbsp;&nbsp;&nbsp;&nbsp;&nbsp;&nbsp;&nbsp;/OPERATIONS</td>\n",
       "    </tr>\n",
       "    <tr>\n",
       "        <td>3</td>\n",
       "        <td>&nbsp;&nbsp;&nbsp;&nbsp;&nbsp;&nbsp;&nbsp;&nbsp;/SOFTWARE SUPPORT</td>\n",
       "    </tr>\n",
       "    <tr>\n",
       "        <td>3</td>\n",
       "        <td>&nbsp;&nbsp;&nbsp;&nbsp;&nbsp;&nbsp;&nbsp;&nbsp;/BRANCH OFFICE F2</td>\n",
       "    </tr>\n",
       "    <tr>\n",
       "        <td>3</td>\n",
       "        <td>&nbsp;&nbsp;&nbsp;&nbsp;&nbsp;&nbsp;&nbsp;&nbsp;/BRANCH OFFICE G2</td>\n",
       "    </tr>\n",
       "    <tr>\n",
       "        <td>3</td>\n",
       "        <td>&nbsp;&nbsp;&nbsp;&nbsp;&nbsp;&nbsp;&nbsp;&nbsp;/BRANCH OFFICE H2</td>\n",
       "    </tr>\n",
       "    <tr>\n",
       "        <td>3</td>\n",
       "        <td>&nbsp;&nbsp;&nbsp;&nbsp;&nbsp;&nbsp;&nbsp;&nbsp;/BRANCH OFFICE I2</td>\n",
       "    </tr>\n",
       "    <tr>\n",
       "        <td>3</td>\n",
       "        <td>&nbsp;&nbsp;&nbsp;&nbsp;&nbsp;&nbsp;&nbsp;&nbsp;/BRANCH OFFICE J2</td>\n",
       "    </tr>\n",
       "</table>"
      ],
      "text/plain": [
       "[(1, u'SPIFFY COMPUTER SERVICE DIV.'),\n",
       " (2, u'    /PLANNING'),\n",
       " (2, u'    /INFORMATION CENTER'),\n",
       " (2, u'    /DEVELOPMENT CENTER'),\n",
       " (2, u'    /SUPPORT SERVICES'),\n",
       " (3, u'        /MANUFACTURING SYSTEMS'),\n",
       " (3, u'        /ADMINISTRATION SYSTEMS'),\n",
       " (3, u'        /OPERATIONS'),\n",
       " (3, u'        /SOFTWARE SUPPORT'),\n",
       " (3, u'        /BRANCH OFFICE F2'),\n",
       " (3, u'        /BRANCH OFFICE G2'),\n",
       " (3, u'        /BRANCH OFFICE H2'),\n",
       " (3, u'        /BRANCH OFFICE I2'),\n",
       " (3, u'        /BRANCH OFFICE J2')]"
      ]
     },
     "execution_count": 14,
     "metadata": {},
     "output_type": "execute_result"
    }
   ],
   "source": [
    "%%sql  \n",
    "with tdep(level, deptname, deptno) as (\n",
    "    select 1, CAST( DEPTNAME AS VARCHAR(40)) AS DEPTNAME, deptno\n",
    "    from department \n",
    "    where DEPTNO = 'A00'\n",
    "    UNION ALL\n",
    "    SELECT t.LEVEL+1, CAST(SPACE(t.LEVEL  * 4) || '/' || d.DEPTNAME\n",
    "       AS VARCHAR(40)) AS DEPTNAME, d.deptno\n",
    "     FROM DEPARTMENT d, tdep t\n",
    "     where d.admrdept=t.deptno and d.deptno<>'A00')\n",
    "select level, deptname\n",
    "from tdep\n",
    "     "
   ]
  },
  {
   "cell_type": "markdown",
   "metadata": {
    "slideshow": {
     "slide_type": "slide"
    }
   },
   "source": [
    "# Stuff I used\n",
    "***\n",
    "* Db2: Common Table Expression https://www.ibm.com/support/knowledgecenter/SSEPGG_11.1.0/com.ibm.db2.luw.sql.ref.doc/doc/r0059217.html\n",
    "* CONNECT BY: https://www.ibm.com/support/knowledgecenter/SSEPGG_11.1.0/com.ibm.db2.luw.apdv.porting.doc/doc/r0052877.html\n",
    "* Bill of Material: https://www.ibm.com/support/knowledgecenter/SSEPGG_11.1.0/com.ibm.db2.luw.sql.ref.doc/doc/r0059242.html\n",
    "* Db2 Sample Database: https://www.ibm.com/support/knowledgecenter/SSEPGG_11.1.0/com.ibm.db2.luw.apdv.samptop.doc/doc/r0001094.html\n",
    "* https://de.wikipedia.org/wiki/Rekursion\n",
    "* https://de.wikipedia.org/wiki/Mise_en_abyme\n",
    "* SQL Magic / ipython-sql: https://github.com/catherinedevlin/ipython-sql\n",
    "* ..."
   ]
  }
 ],
 "metadata": {
  "celltoolbar": "Slideshow",
  "kernelspec": {
   "display_name": "Python 2",
   "language": "python",
   "name": "python2"
  },
  "language_info": {
   "codemirror_mode": {
    "name": "ipython",
    "version": 2
   },
   "file_extension": ".py",
   "mimetype": "text/x-python",
   "name": "python",
   "nbconvert_exporter": "python",
   "pygments_lexer": "ipython2",
   "version": "2.7.5"
  }
 },
 "nbformat": 4,
 "nbformat_minor": 1
}
